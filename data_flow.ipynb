{
  "nbformat": 4,
  "nbformat_minor": 0,
  "metadata": {
    "colab": {
      "name": "ADD_BOOK.ipynb",
      "version": "0.3.2",
      "provenance": [],
      "include_colab_link": true
    },
    "kernelspec": {
      "name": "python3",
      "display_name": "Python 3"
    }
  },
  "cells": [
    {
      "cell_type": "markdown",
      "metadata": {
        "id": "view-in-github",
        "colab_type": "text"
      },
      "source": [
        "<a href=\"https://colab.research.google.com/github/mikazz/TripAdvisor/blob/master/data_flow.ipynb\" target=\"_parent\"><img src=\"https://colab.research.google.com/assets/colab-badge.svg\" alt=\"Open In Colab\"/></a>"
      ]
    },
    {
      "cell_type": "markdown",
      "metadata": {
        "id": "mT9sX2N00w8L",
        "colab_type": "text"
      },
      "source": [
        "# Wyciąganie ciekawych informacji z plików źródłowych. Parsowanie plików *.dat"
      ]
    },
    {
      "cell_type": "markdown",
      "metadata": {
        "id": "39TzSNQK1HUs",
        "colab_type": "text"
      },
      "source": [
        "## Przykładowy plik  *.dat"
      ]
    },
    {
      "cell_type": "markdown",
      "metadata": {
        "id": "E1sILXfR08Yc",
        "colab_type": "text"
      },
      "source": [
        "```\n",
        "<Overall Rating>4.5\n",
        "<Avg. Price>$124\n",
        "<URL>Chelsea Lodge\n",
        "\n",
        "<Author>NYGuest\n",
        "<Content>Torturous Stay -> learned the hard way We were upgraded without our knowledge and then charged for it. We stayed for three days. Our room was a dungeon below street level. The walls are paper thin, and there was quite a bit of noise from other guests. The room was not clean. There were spots of what appeared to be blood above the sink in the bathroom, and clearly they have never cleaned the walls or doorknobs in the bedroom. The sheets and towels are threadbare - literally - with holes in them. There were brown stain streaks on both sets of sheets we infested. There was no temperature control in the room. We were at the mercy of the guests above us. The first two nights we froze and the last night we roasted. For some reason they decided to not clean our room on the second day. I can only surmise as a cost saving measure.We are staying in New York for 9 nights and if they didn't have a 72 hour no-cancellation policy we would have left after the first night. We are now staying in a much more comfortable and squeaky clean hotel that is $80 less a night (booked through hotline dot com)The hotel has no service whatsoever. It's basically a motel with no parking. To me that means 1 star. We are feeling ripped off at this point. 190/night for a room in a converted basement is absurd in any city. For the life of me I cannot explain our experience. I read through previous reviews carefully and we expected some charm here. Alas this was not the case. I am left with the suspicion that the hotel has spammed this board with a large number of their own reviews. I would unequivocally not recommend this establishment. There are many comfortable and clean hotels in New York that have a number of guest services and can be had for less money if you merely take the time to shop on the internet at any of a number of web sites. \n",
        "<Date>Jan 4, 2009\n",
        "<img src=\"http://cdn.tripadvisor.com/img2/new.gif\" alt=\"New\"/>\n",
        "<No. Reader>3\n",
        "<No. Helpful>1\n",
        "<Overall>1\n",
        "<Value>1\n",
        "<Rooms>1\n",
        "<Location>3\n",
        "<Cleanliness>1\n",
        "<Check in / front desk>2\n",
        "<Service>-1\n",
        "<Business service>3\n",
        "```\n",
        "\n"
      ]
    },
    {
      "cell_type": "markdown",
      "metadata": {
        "id": "e4-P-M3d1MWi",
        "colab_type": "text"
      },
      "source": [
        "## Parsowanie do formatu csv"
      ]
    },
    {
      "cell_type": "code",
      "metadata": {
        "id": "TTv4dLg40ktz",
        "colab_type": "code",
        "colab": {}
      },
      "source": [
        "import glob\n",
        "import re\n",
        "\n",
        "PATH = \"reviews_folder\\*.dat\"\n",
        "\n",
        "\n",
        "files = glob.glob(PATH)\n",
        "for name in files:\n",
        "    try:\n",
        "        with open(name) as file:\n",
        "            file_name = name.split('\\\\')\n",
        "            file_name = file_name[1]\n",
        "            name = file_name.split(\".\")\n",
        "            name = name[0]\n",
        "            \n",
        "            content = file.read()\n",
        "            \n",
        "            rating_list = re.findall('<Overall Rating>(.*)', content)\n",
        "            price_list = re.findall('<Avg. Price>(.*)', content)\n",
        "            url_list = re.findall('<URL>(.*)', content)\n",
        "            comment_number = len(re.findall('<Author>(.*)', content))\n",
        "\n",
        "            fmt = '{};{};{};{};{}'\n",
        "            for i, (rating, price, url) in enumerate(zip(rating_list, price_list, url_list)):\n",
        "                print(fmt.format(name, rating, price, url, comment_number))\n",
        "\n",
        "            \n",
        "        \n",
        "    except IOError as e:\n",
        "        print(e)\n"
      ],
      "execution_count": 0,
      "outputs": []
    },
    {
      "cell_type": "markdown",
      "metadata": {
        "id": "ZX-2gakr2yaM",
        "colab_type": "text"
      },
      "source": [
        "## Wynik\n",
        "## name; overall_avg; price; url; number_of_comments"
      ]
    },
    {
      "cell_type": "markdown",
      "metadata": {
        "id": "SguW-o9A22J7",
        "colab_type": "text"
      },
      "source": [
        "```\n",
        "hotel_81251;3.5;$179;http://www.tripadvisor.com/ShowUserReviews-g60713-d81251-r23352903-Opal_Hotel-San_Francisco_California.html;169\n",
        "hotel_81315;4;$367;http://www.tripadvisor.com/ShowUserReviews-g60713-d81315-r23333280-San_Francisco_Marriott-San_Francisco_California.html;236\n",
        "```\n",
        "\n"
      ]
    },
    {
      "cell_type": "markdown",
      "metadata": {
        "id": "DiJYLN-q1bOM",
        "colab_type": "text"
      },
      "source": [
        "# Parsowanie plików *.txt"
      ]
    },
    {
      "cell_type": "markdown",
      "metadata": {
        "id": "0qSm3Tr81lhQ",
        "colab_type": "text"
      },
      "source": [
        "## Przykładowy plik *.txt z hotelami"
      ]
    },
    {
      "cell_type": "markdown",
      "metadata": {
        "id": "QpSwP_Sr1k54",
        "colab_type": "text"
      },
      "source": [
        "```\n",
        "<Author>RW53\n",
        "<Content>Location! Location?       view from room of nearby freeway  \n",
        "<Date>Dec 26, 2008\n",
        "<Rating>3\t4\t3\t2\t4\t3\t-1\t-1\t\n",
        "```\n",
        "\n"
      ]
    },
    {
      "cell_type": "markdown",
      "metadata": {
        "id": "JO4tiNc-14Kc",
        "colab_type": "text"
      },
      "source": [
        "## Parsowanie do postaci:\n",
        "  komentarz \\n  \n",
        "  komentarz \\n  \n",
        "  komentarz \\n  "
      ]
    },
    {
      "cell_type": "code",
      "metadata": {
        "id": "75E8eLDr1kZA",
        "colab_type": "code",
        "colab": {}
      },
      "source": [
        "\n",
        "import re\n",
        "import glob\n",
        "\n",
        "\n",
        "content_list = []\n",
        "\n",
        "date_lists = []\n",
        "PATH = \"HOTELS\\*.txt\"\n",
        "\n",
        "\n",
        "def write_rating_to_file(rating_lists, file_name):\n",
        "    for list in rating_lists:\n",
        "        #print(line)\n",
        "\n",
        "        with open(file_name, \"a\") as file:\n",
        "            file.write(str(list[0]) + \"\\n\")\n",
        "\n",
        "\n",
        "def write_to_file(content_list, file_name):\n",
        "    for line in content_list:\n",
        "        with open(file_name, \"a\") as file:\n",
        "            file.write(line + \"\\n\")\n",
        "\n",
        "\n",
        "def content_parser(content):\n",
        "    for i in content:\n",
        "        # Clean nasty parsing errors ( showReview(1020542, 'full'); and etc )\n",
        "        i = re.sub(r'(showReview)(.*)(;)',\" \", i)\n",
        "        # Clean all whitespace characters (space, tab, newline, return, formfeed) too\n",
        "        i = \" \".join(i.split())\n",
        "        # Append cleaned line\n",
        "        content_list.append(i)\n",
        "\n",
        "\n",
        "def rating_parser(rating):\n",
        "    rating_list = []\n",
        "    for i in rating:\n",
        "        i = i.split(\"\\t\")\n",
        "        rating_list.append(i)\n",
        "\n",
        "    for i in rating_list:\n",
        "        # remove all occurrences of whitespace (replace)\n",
        "        i[:] = [x for x in i if x is not '']\n",
        "        # convert all strings to ints (replace)\n",
        "        i[:] = [int(x) for x in i]\n",
        "\n",
        "    return rating_list\n",
        "\n",
        "\n",
        "def main():\n",
        "    files = glob.glob(PATH)\n",
        "    for name in files:\n",
        "        with open(name) as file:\n",
        "            file_name = name.split('\\\\')\n",
        "            file_name = file_name[1]\n",
        "            print(\"Parsed: \" + file_name)\n",
        "\n",
        "            lines = file.read()\n",
        "            # Find all text with <Content> at the beginning\n",
        "            content = re.findall('<Content>(.*)', lines)\n",
        "            content_parser(content)\n",
        "\n",
        "            # Rating lists\n",
        "            rating = re.findall('<Rating>(.*)', lines)\n",
        "            rate = rating_parser(rating)\n",
        "            #print(rate)\n",
        "            write_rating_to_file(rate, \"R\" + file_name)\n",
        "            \n",
        "            # Date lists\n",
        "            date_lists = re.findall('<Date>(.*)', lines)\n",
        "\n",
        "        new_file_name = \"P\" + file_name\n",
        "        write_to_file(content_list, new_file_name)\n",
        "        global content_list\n",
        "        content_list = []\n",
        "\n",
        "\n",
        "    print(\"Done Parsing\")\n",
        "\n",
        "    \n",
        "if __name__ == \"__main__\":\n",
        "    main()\n"
      ],
      "execution_count": 0,
      "outputs": []
    }
  ]
}